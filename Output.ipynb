{
 "cells": [
  {
   "cell_type": "code",
   "execution_count": 1,
   "id": "14d497f0",
   "metadata": {},
   "outputs": [],
   "source": [
    "import sys\n",
    "import os\n",
    "import cv2\n",
    "import numpy as np\n",
    "import random\n",
    "# from matplotlib import pyplot as plt\n",
    "# # %matplotlib inline\n",
    "# %matplotlib auto"
   ]
  },
  {
   "cell_type": "code",
   "execution_count": 2,
   "id": "aee25294",
   "metadata": {},
   "outputs": [
    {
     "name": "stdout",
     "output_type": "stream",
     "text": [
      "[[[125 138  91]\n",
      "  [129 141  96]\n",
      "  [124 137  91]\n",
      "  ...\n",
      "  [160 175 149]\n",
      "  [163 179 155]\n",
      "  [164 180 156]]\n",
      "\n",
      " [[122 137  89]\n",
      "  [126 141  93]\n",
      "  [126 138  91]\n",
      "  ...\n",
      "  [162 178 151]\n",
      "  [169 184 158]\n",
      "  [159 175 149]]\n",
      "\n",
      " [[131 145 100]\n",
      "  [127 141  95]\n",
      "  [131 143  96]\n",
      "  ...\n",
      "  [163 178 152]\n",
      "  [162 177 151]\n",
      "  [161 177 151]]\n",
      "\n",
      " ...\n",
      "\n",
      " [[ 36  41   3]\n",
      "  [ 34  38   4]\n",
      "  [ 36  43   2]\n",
      "  ...\n",
      "  [ 65  80   6]\n",
      "  [ 63  79   2]\n",
      "  [ 61  77   3]]\n",
      "\n",
      " [[ 32  36   1]\n",
      "  [ 34  40   3]\n",
      "  [ 37  46   2]\n",
      "  ...\n",
      "  [ 59  74   3]\n",
      "  [ 64  80   7]\n",
      "  [ 62  77   3]]\n",
      "\n",
      " [[ 35  41   1]\n",
      "  [ 40  49   1]\n",
      "  [ 46  57   7]\n",
      "  ...\n",
      "  [ 53  67   5]\n",
      "  [ 58  73   6]\n",
      "  [ 62  76   4]]]\n"
     ]
    }
   ],
   "source": [
    "frame_load_path = './mario/frames/'\n",
    "path_to_output_video = './SID480365749_Asgmt2Opt1.mp4'\n",
    "frame_width = 500\n",
    "frame_height =500\n",
    "test = cv2.imread(\"mario/frames/frame0.tif\")\n",
    "print(test)"
   ]
  },
  {
   "cell_type": "code",
   "execution_count": 3,
   "id": "ae3053dd",
   "metadata": {},
   "outputs": [
    {
     "name": "stdout",
     "output_type": "stream",
     "text": [
      "584\n",
      "No more frames to be loaded\n"
     ]
    }
   ],
   "source": [
    "out = cv2.VideoWriter(path_to_output_video, cv2.VideoWriter_fourcc('M', 'P', '4', 'V'), 30, (int(frame_width), int(frame_height)))\n",
    "frame_counter = 0\n",
    "while(frame_counter<1800):\n",
    "    img = cv2.imread(frame_load_path + 'frame%d.tif' % frame_counter)\n",
    "    if img is None:\n",
    "        print(frame_counter)\n",
    "        print('No more frames to be loaded')\n",
    "        break;\n",
    "    out.write(img)\n",
    "    frame_counter += 1\n",
    "out.release()\n",
    "cv2.destroyAllWindows()"
   ]
  },
  {
   "cell_type": "code",
   "execution_count": null,
   "id": "5914c0e2",
   "metadata": {},
   "outputs": [],
   "source": []
  }
 ],
 "metadata": {
  "kernelspec": {
   "display_name": "Python 3",
   "language": "python",
   "name": "python3"
  },
  "language_info": {
   "codemirror_mode": {
    "name": "ipython",
    "version": 3
   },
   "file_extension": ".py",
   "mimetype": "text/x-python",
   "name": "python",
   "nbconvert_exporter": "python",
   "pygments_lexer": "ipython3",
   "version": "3.8.8"
  }
 },
 "nbformat": 4,
 "nbformat_minor": 5
}
